{
 "cells": [
  {
   "cell_type": "code",
   "execution_count": 1,
   "metadata": {},
   "outputs": [],
   "source": [
    "from tensorflow.keras.models import load_model\n",
    "from collections import deque\n",
    "import numpy as np\n",
    "import pickle\n",
    "import cv2\n",
    "import warnings\n",
    "warnings.filterwarnings(\"ignore\")"
   ]
  },
  {
   "cell_type": "code",
   "execution_count": 2,
   "metadata": {},
   "outputs": [
    {
     "name": "stdout",
     "output_type": "stream",
     "text": [
      "[INFO] loading model and label binarizer...\n",
      "Metal device set to: Apple M1\n",
      "\n",
      "systemMemory: 8.00 GB\n",
      "maxCacheSize: 2.67 GB\n",
      "\n"
     ]
    },
    {
     "name": "stderr",
     "output_type": "stream",
     "text": [
      "2023-07-04 11:54:12.445250: I tensorflow/core/common_runtime/pluggable_device/pluggable_device_factory.cc:305] Could not identify NUMA node of platform GPU ID 0, defaulting to 0. Your kernel may not have been built with NUMA support.\n",
      "2023-07-04 11:54:12.445534: I tensorflow/core/common_runtime/pluggable_device/pluggable_device_factory.cc:271] Created TensorFlow device (/job:localhost/replica:0/task:0/device:GPU:0 with 0 MB memory) -> physical PluggableDevice (device: 0, name: METAL, pci bus id: <undefined>)\n"
     ]
    }
   ],
   "source": [
    "# load the trained model and label binarizer from disk\n",
    "print(\"[INFO] loading model and label binarizer...\")\n",
    "model = load_model(filepath='model.h5')\n",
    "encoder = pickle.loads(open(file='label_encode',mode='rb').read())\n",
    "# initialize the image mean for mean subtraction along with the\n",
    "# predictions queue\n",
    "# mean = np.array([123.68, 116.779, 103.939][::1], dtype=\"float32\")\n",
    "\n",
    "Q = deque(maxlen=25)"
   ]
  },
  {
   "cell_type": "code",
   "execution_count": null,
   "metadata": {},
   "outputs": [],
   "source": [
    "# initialize the video stream, pointer to output video file, and\n",
    "# frame dimensions\n",
    "\n",
    "def predict_video(path):\n",
    "\tvs = cv2.VideoCapture(path)\n",
    "\twriter = None\n",
    "\t(W, H) = (None, None)\n",
    "\t# loop over frames from the video file stream\n",
    "\twhile True:\n",
    "\t\t# read the next frame from the file\n",
    "\t\t(grabbed, frame) = vs.read()\n",
    "\t\t# if the frame was not grabbed, then we have reached the end\n",
    "\t\t# of the stream\n",
    "\t\tif not grabbed:\n",
    "\t\t\tbreak\n",
    "\t\t# if the frame dimensions are empty, grab them\n",
    "\t\tif W is None or H is None:\n",
    "\t\t\t(H, W) = frame.shape[:2]\n",
    "\t\t\t\n",
    "\t\t# clone the output frame, then convert it from BGR to RGB\n",
    "\t\t# ordering, resize the frame to a fixed 224x224, and then\n",
    "\t\t# perform mean subtraction\n",
    "\n",
    "\t\toutput = frame.copy()\n",
    "\t\tframe = cv2.cvtColor(frame, cv2.COLOR_BGR2RGB)\n",
    "\t\tframe = cv2.resize(frame, (224, 224)).astype(\"float32\")\n",
    "\t\t# frame -= mean\n",
    "\t\t\n",
    "\t\t# make predictions on the frame and then update the predictions\n",
    "\t\t# queue\n",
    "\t\tpreds = model.predict(np.expand_dims(frame, axis=0),verbose = 0)[0]\n",
    "\t\tQ.append(preds)\n",
    "\n",
    "\t\t# perform prediction averaging over the current history of\n",
    "\t\t# previous predictions\n",
    "\t\tresults = np.array(Q).mean(axis=0)\n",
    "\t\ti = np.argmax(results)\n",
    "\n",
    "\t\tlabel = encoder.classes_[i]\n",
    "\t\t\n",
    "\t\t# draw the activity on the output frame\n",
    "\t\ttext = \"activity: {}\".format(label)\n",
    "\t\tcv2.putText(output, text, (35, 50), cv2.FONT_HERSHEY_SIMPLEX,0.5, (0, 0, 255), 2)\n",
    "\t\t# check if the video writer is None\n",
    "\n",
    "\t\tif writer is None:\n",
    "\t\t\t# initialize our video writer\n",
    "\t\t\tfourcc = cv2.VideoWriter_fourcc(*\"MJPG\")\n",
    "\t\t\twriter = cv2.VideoWriter('predicted.mp4', fourcc, 30,(W, H), True)\n",
    "\n",
    "\t\t# write the output frame to disk\n",
    "\t\twriter.write(output)\n",
    "\t\t# show the output image\n",
    "\t\tcv2.imshow(\"Output\", output)\n",
    "\t\tkey = cv2.waitKey(1) & 0xFF\n",
    "\t\t# if the `q` key was pressed, break from the loop\n",
    "\t\t\n",
    "\t\tif key == ord(\"q\"):\n",
    "\t\t\tbreak\n",
    "\t# release the file pointers\n",
    "\tprint(\"[INFO] cleaning up...\")\n",
    "\twriter.release()\n",
    "\tvs.release()"
   ]
  }
 ],
 "metadata": {
  "kernelspec": {
   "display_name": "Python 3",
   "language": "python",
   "name": "python3"
  },
  "language_info": {
   "codemirror_mode": {
    "name": "ipython",
    "version": 3
   },
   "file_extension": ".py",
   "mimetype": "text/x-python",
   "name": "python",
   "nbconvert_exporter": "python",
   "pygments_lexer": "ipython3",
   "version": "3.8.16"
  },
  "orig_nbformat": 4
 },
 "nbformat": 4,
 "nbformat_minor": 2
}
